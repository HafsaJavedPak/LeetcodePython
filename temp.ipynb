{
 "cells": [
  {
   "cell_type": "code",
   "execution_count": null,
   "metadata": {},
   "outputs": [],
   "source": [
    "from error_checking import value_error_checking"
   ]
  },
  {
   "cell_type": "code",
   "execution_count": 14,
   "metadata": {},
   "outputs": [],
   "source": [
    "s = \"bakakaka\"\n",
    "t = \"kkkaaeab\"\n",
    "extra_char = \"\"\n",
    "        "
   ]
  },
  {
   "cell_type": "code",
   "execution_count": 17,
   "metadata": {},
   "outputs": [],
   "source": [
    "def func(s,t):\n",
    "    s1 = set(s)\n",
    "    if len(s) == len(s1):\n",
    "        for char in s1:\n",
    "            if (s.count(char) != t.count(char)):\n",
    "                extra_char = char\n",
    "                break\n",
    "            \n",
    "\n",
    "    else:\n",
    "        for char in t:\n",
    "            if char not in s:\n",
    "                extra_char = char\n",
    "                break\n",
    "\n",
    "    print(extra_char)\n",
    "        "
   ]
  },
  {
   "cell_type": "code",
   "execution_count": 18,
   "metadata": {},
   "outputs": [
    {
     "name": "stdout",
     "output_type": "stream",
     "text": [
      "e\n"
     ]
    }
   ],
   "source": [
    "func(input(\"word 1\\n\"),input('word 2\\n'))"
   ]
  }
 ],
 "metadata": {
  "kernelspec": {
   "display_name": "Python 3",
   "language": "python",
   "name": "python3"
  },
  "language_info": {
   "codemirror_mode": {
    "name": "ipython",
    "version": 3
   },
   "file_extension": ".py",
   "mimetype": "text/x-python",
   "name": "python",
   "nbconvert_exporter": "python",
   "pygments_lexer": "ipython3",
   "version": "3.12.0"
  }
 },
 "nbformat": 4,
 "nbformat_minor": 2
}
